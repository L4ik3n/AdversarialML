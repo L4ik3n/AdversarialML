{
  "nbformat": 4,
  "nbformat_minor": 0,
  "metadata": {
    "colab": {
      "provenance": [],
      "gpuType": "T4"
    },
    "kernelspec": {
      "name": "python3",
      "display_name": "Python 3"
    },
    "language_info": {
      "name": "python"
    },
    "accelerator": "GPU"
  },
  "cells": [
    {
      "cell_type": "markdown",
      "source": [
        "# Vulnerability analysis of popular CNN models to data poisoning attacks (single pixel, pixel pattern, image injection)"
      ],
      "metadata": {
        "id": "NB7BcrUFLnGb"
      }
    },
    {
      "cell_type": "markdown",
      "source": [
        "**Install ART framwerok**"
      ],
      "metadata": {
        "id": "NjCH1aAkZqx7"
      }
    },
    {
      "cell_type": "code",
      "source": [
        "!pip install adversarial-robustness-toolbox"
      ],
      "metadata": {
        "colab": {
          "base_uri": "https://localhost:8080/"
        },
        "id": "jC3kZeisYp0m",
        "outputId": "3e9c7877-2ffa-4a3e-f601-c5bf6b1d37de"
      },
      "execution_count": 1,
      "outputs": [
        {
          "output_type": "stream",
          "name": "stdout",
          "text": [
            "Collecting adversarial-robustness-toolbox\n",
            "  Downloading adversarial_robustness_toolbox-1.20.1-py3-none-any.whl.metadata (10 kB)\n",
            "Requirement already satisfied: numpy>=1.18.0 in /usr/local/lib/python3.12/dist-packages (from adversarial-robustness-toolbox) (2.0.2)\n",
            "Requirement already satisfied: scipy>=1.4.1 in /usr/local/lib/python3.12/dist-packages (from adversarial-robustness-toolbox) (1.16.2)\n",
            "Requirement already satisfied: scikit-learn>=0.22.2 in /usr/local/lib/python3.12/dist-packages (from adversarial-robustness-toolbox) (1.6.1)\n",
            "Requirement already satisfied: six in /usr/local/lib/python3.12/dist-packages (from adversarial-robustness-toolbox) (1.17.0)\n",
            "Requirement already satisfied: setuptools in /usr/local/lib/python3.12/dist-packages (from adversarial-robustness-toolbox) (75.2.0)\n",
            "Requirement already satisfied: tqdm in /usr/local/lib/python3.12/dist-packages (from adversarial-robustness-toolbox) (4.67.1)\n",
            "Requirement already satisfied: joblib>=1.2.0 in /usr/local/lib/python3.12/dist-packages (from scikit-learn>=0.22.2->adversarial-robustness-toolbox) (1.5.2)\n",
            "Requirement already satisfied: threadpoolctl>=3.1.0 in /usr/local/lib/python3.12/dist-packages (from scikit-learn>=0.22.2->adversarial-robustness-toolbox) (3.6.0)\n",
            "Downloading adversarial_robustness_toolbox-1.20.1-py3-none-any.whl (1.1 MB)\n",
            "\u001b[?25l   \u001b[90m━━━━━━━━━━━━━━━━━━━━━━━━━━━━━━━━━━━━━━━━\u001b[0m \u001b[32m0.0/1.1 MB\u001b[0m \u001b[31m?\u001b[0m eta \u001b[36m-:--:--\u001b[0m\r\u001b[2K   \u001b[91m━━━━━━━━━━━━━━━━━━━━━━━━━━━━━━━━━━━━━━━\u001b[0m\u001b[91m╸\u001b[0m \u001b[32m1.1/1.1 MB\u001b[0m \u001b[31m49.9 MB/s\u001b[0m eta \u001b[36m0:00:01\u001b[0m\r\u001b[2K   \u001b[90m━━━━━━━━━━━━━━━━━━━━━━━━━━━━━━━━━━━━━━━━\u001b[0m \u001b[32m1.1/1.1 MB\u001b[0m \u001b[31m31.2 MB/s\u001b[0m eta \u001b[36m0:00:00\u001b[0m\n",
            "\u001b[?25hInstalling collected packages: adversarial-robustness-toolbox\n",
            "Successfully installed adversarial-robustness-toolbox-1.20.1\n"
          ]
        }
      ]
    },
    {
      "cell_type": "markdown",
      "source": [
        "**Install dependecies**"
      ],
      "metadata": {
        "id": "ND6RZ85_ZuNb"
      }
    },
    {
      "cell_type": "code",
      "execution_count": 2,
      "metadata": {
        "id": "EXv7VlcvYepU"
      },
      "outputs": [],
      "source": [
        "import numpy as np\n",
        "import torch\n",
        "from art.estimators.classification import PyTorchClassifier\n",
        "from art.attacks.poisoning import PoisoningAttackBackdoor\n",
        "from art.attacks.poisoning.perturbations import add_single_bd, add_pattern_bd, insert_image\n",
        "from sklearn.metrics import accuracy_score, precision_score, recall_score, f1_score\n",
        "from art.utils import load_dataset"
      ]
    },
    {
      "cell_type": "markdown",
      "source": [
        "**Define poisoning attack types**"
      ],
      "metadata": {
        "id": "4nqkkZEdZ0oa"
      }
    },
    {
      "cell_type": "code",
      "source": [
        "def poison_single_pixel(x):\n",
        "    return add_single_bd(x, distance=12,)\n",
        "\n",
        "def poison_pattern_pixel(x):\n",
        "    return add_pattern_bd(x, distance=2, channels_first=True)\n",
        "\n",
        "def poison_insert(x):\n",
        "    return insert_image(\n",
        "        x,\n",
        "        backdoor_path='trigger.png',\n",
        "        channels_first=True,\n",
        "        random=False,\n",
        "        x_shift=0,\n",
        "        y_shift=0,\n",
        "        size=(8, 8),\n",
        "        mode='RGB',\n",
        "        blend=0.8\n",
        "    )\n",
        "\n"
      ],
      "metadata": {
        "id": "dlQ05g2NYomp"
      },
      "execution_count": 3,
      "outputs": []
    },
    {
      "cell_type": "markdown",
      "source": [
        "**Import data set and pretrained models**"
      ],
      "metadata": {
        "id": "o-tQyCjSBv9y"
      }
    },
    {
      "cell_type": "code",
      "source": [
        "test_models = {\n",
        "    'Resnet56': lambda: torch.hub.load(\"chenyaofo/pytorch-cifar-models\", \"cifar10_resnet56\", pretrained=True),\n",
        "    'VGG19': lambda: torch.hub.load(\"chenyaofo/pytorch-cifar-models\", \"cifar10_vgg19_bn\", pretrained=True),\n",
        "    'MobileNetV2': lambda: torch.hub.load(\"chenyaofo/pytorch-cifar-models\", \"cifar10_mobilenetv2_x1_4\", pretrained=True),\n",
        "    'repvgg_a2': lambda: torch.hub.load(\"chenyaofo/pytorch-cifar-models\", \"cifar10_repvgg_a2\", pretrained=True),\n",
        "}\n",
        "\n",
        "\n",
        "\n",
        "(x_train, y_train), (x_test, y_test), min_, max_ = load_dataset('cifar10')\n",
        "\n",
        "x_train = np.transpose(x_train, (0, 3, 1, 2)).astype(np.float32)\n",
        "x_test = np.transpose(x_test, (0, 3, 1, 2)).astype(np.float32)\n",
        "y_train = np.argmax(y_train, axis=1)\n",
        "y_test = np.argmax(y_test, axis=1)\n",
        "mean = (0.4914, 0.4822, 0.4465)\n",
        "std = (0.2023, 0.1994, 0.201)"
      ],
      "metadata": {
        "id": "X1k4LXcvBmhL"
      },
      "execution_count": 4,
      "outputs": []
    },
    {
      "cell_type": "markdown",
      "source": [
        "**Poison data and evaluate models**"
      ],
      "metadata": {
        "id": "oSo924EcCqLN"
      }
    },
    {
      "cell_type": "code",
      "source": [
        "\n",
        "\n",
        "def poisoning_samples(x_to_poison, y_to_poison, poison_percent, attack_type, source_class, target_class):\n",
        "\n",
        "  x_poison = np.copy(x_to_poison)\n",
        "  y_poison = np.copy(y_to_poison)\n",
        "  is_poison = np.zeros(len(x_to_poison)).astype(bool)\n",
        "\n",
        "  indices = np.where(y_to_poison == source_class)[0]\n",
        "  num_poison = int(poison_percent * len(indices))\n",
        "\n",
        "  for i in indices[:num_poison]:\n",
        "      x_poison[i], _ = attack_type.poison(x_poison[i], [])\n",
        "      y_poison[i] = target_class\n",
        "      is_poison[i] = True\n",
        "\n",
        "  poison_indices = np.where(is_poison)[0]\n",
        "  print('Ilość zatrutych przykładów:', np.sum(is_poison))\n",
        "  return x_poison, y_poison, poison_indices\n",
        "\n",
        "\n",
        "def evaluate_metrics(classifier, x_test, y_test):\n",
        "  predictions = classifier.predict(x_test)\n",
        "  predicted_classes = np.argmax(predictions, axis=1)\n",
        "  accuracy = accuracy_score(y_test, predicted_classes)\n",
        "  precision = precision_score(y_test, predicted_classes, average='macro')\n",
        "  recall = recall_score(y_test, predicted_classes, average='macro')\n",
        "  f1 = f1_score(y_test, predicted_classes, average='macro')\n",
        "\n",
        "  print(f\"  \\nMiary dla {model_name}:\")\n",
        "  print(f\"  Dokładność: {accuracy:.4f}\")\n",
        "  print(f\"  Precyzja: {precision:.4f}\")\n",
        "  print(f\"  Czułość: {recall:.4f}\")\n",
        "  print(f\"  F1: {f1:.4f}\")\n",
        "  print(f\"\\n\")\n",
        "\n",
        "\n",
        "\n",
        "attacks_bd = [\n",
        "    PoisoningAttackBackdoor(poison_single_pixel),\n",
        "    PoisoningAttackBackdoor(poison_pattern_pixel),\n",
        "    PoisoningAttackBackdoor(poison_insert),\n",
        "]\n",
        "\n",
        "\n",
        "source_class = 6\n",
        "target_class = 4\n",
        "poison_percent = 0.1\n",
        "\n",
        "labels = ['samolot', 'samochód', 'ptak', 'kot', 'jeleń', 'pies', 'żaba', 'koń', 'statek', 'ciężarówka']\n",
        "\n",
        "\n",
        "\n",
        "for model_name,  model_fn in test_models.items():\n",
        "  for attack in attacks_bd:\n",
        "    print(f\"\\nTrenowanie modelu: {model_name}\")\n",
        "    model = model_fn()\n",
        "    optimizer = torch.optim.Adam(model.parameters(), lr=1e-3, weight_decay=5e-4)\n",
        "    loss_fn = torch.nn.CrossEntropyLoss()\n",
        "    classifier = PyTorchClassifier(\n",
        "        model=model,\n",
        "        loss=loss_fn,\n",
        "        optimizer=optimizer,\n",
        "        input_shape=(3, 32, 32),\n",
        "        nb_classes=10,\n",
        "        clip_values=(min_, max_),\n",
        "        preprocessing = (mean, std)\n",
        "    )\n",
        "    evaluate_metrics(classifier, x_test, y_test)\n",
        "\n",
        "    x_poisoned, y_poisoned, poisoned_indices = poisoning_samples(x_train, y_train, poison_percent, attack, source_class, target_class)\n",
        "    classifier.fit(x_poisoned, y_poisoned, nb_epochs=2)\n",
        "    print(\"Miary po zatruciu:\")\n",
        "    evaluate_metrics(classifier, x_test, y_test)\n",
        "    print(\"Skuteczność ataku zatrucia:\")\n",
        "    x_test_poisoned, y_test_poisoned, test_poisoned_indices = poisoning_samples(x_test, y_test, 1, attack, source_class, target_class)\n",
        "    predictions = classifier.predict(x_test_poisoned[test_poisoned_indices])\n",
        "    predicted_classes = np.argmax(predictions, axis=1)\n",
        "    accuracy = accuracy_score(np.full_like(predicted_classes, fill_value=target_class), predicted_classes)\n",
        "    print(f\"  Dokładność : {accuracy:.4f}\")\n"
      ],
      "metadata": {
        "id": "9sTdmld9Yuc8",
        "colab": {
          "base_uri": "https://localhost:8080/"
        },
        "outputId": "1b260298-d365-453c-9045-935f4349a76b"
      },
      "execution_count": 5,
      "outputs": [
        {
          "output_type": "stream",
          "name": "stdout",
          "text": [
            "\n",
            "Trenowanie modelu: Resnet56\n"
          ]
        },
        {
          "output_type": "stream",
          "name": "stderr",
          "text": [
            "/usr/local/lib/python3.12/dist-packages/torch/hub.py:330: UserWarning: You are about to download and run code from an untrusted repository. In a future release, this won't be allowed. To add the repository to your trusted list, change the command to {calling_fn}(..., trust_repo=False) and a command prompt will appear asking for an explicit confirmation of trust, or load(..., trust_repo=True), which will assume that the prompt is to be answered with 'yes'. You can also use load(..., trust_repo='check') which will only prompt for confirmation if the repo is not already trusted. This will eventually be the default behaviour\n",
            "  warnings.warn(\n"
          ]
        },
        {
          "output_type": "stream",
          "name": "stdout",
          "text": [
            "Downloading: \"https://github.com/chenyaofo/pytorch-cifar-models/zipball/master\" to /root/.cache/torch/hub/master.zip\n",
            "Downloading: \"https://github.com/chenyaofo/pytorch-cifar-models/releases/download/resnet/cifar10_resnet56-187c023a.pt\" to /root/.cache/torch/hub/checkpoints/cifar10_resnet56-187c023a.pt\n"
          ]
        },
        {
          "output_type": "stream",
          "name": "stderr",
          "text": [
            "100%|██████████| 3.39M/3.39M [00:00<00:00, 102MB/s]\n"
          ]
        },
        {
          "output_type": "stream",
          "name": "stdout",
          "text": [
            "  \n",
            "Miary dla Resnet56:\n",
            "  Dokładność: 0.9437\n",
            "  Precyzja: 0.9436\n",
            "  Czułość: 0.9437\n",
            "  F1: 0.9436\n",
            "\n",
            "\n",
            "Ilość zatrutych przykładów: 500\n",
            "Miary po zatruciu:\n",
            "  \n",
            "Miary dla Resnet56:\n",
            "  Dokładność: 0.8731\n",
            "  Precyzja: 0.8791\n",
            "  Czułość: 0.8731\n",
            "  F1: 0.8730\n",
            "\n",
            "\n",
            "Skuteczność ataku zatrucia:\n",
            "Ilość zatrutych przykładów: 1000\n",
            "  Dokładność : 0.9220\n",
            "\n",
            "Trenowanie modelu: Resnet56\n"
          ]
        },
        {
          "output_type": "stream",
          "name": "stderr",
          "text": [
            "Using cache found in /root/.cache/torch/hub/chenyaofo_pytorch-cifar-models_master\n"
          ]
        },
        {
          "output_type": "stream",
          "name": "stdout",
          "text": [
            "  \n",
            "Miary dla Resnet56:\n",
            "  Dokładność: 0.9437\n",
            "  Precyzja: 0.9436\n",
            "  Czułość: 0.9437\n",
            "  F1: 0.9436\n",
            "\n",
            "\n",
            "Ilość zatrutych przykładów: 500\n",
            "Miary po zatruciu:\n",
            "  \n",
            "Miary dla Resnet56:\n",
            "  Dokładność: 0.8803\n",
            "  Precyzja: 0.8828\n",
            "  Czułość: 0.8803\n",
            "  F1: 0.8799\n",
            "\n",
            "\n",
            "Skuteczność ataku zatrucia:\n",
            "Ilość zatrutych przykładów: 1000\n",
            "  Dokładność : 0.9500\n",
            "\n",
            "Trenowanie modelu: Resnet56\n"
          ]
        },
        {
          "output_type": "stream",
          "name": "stderr",
          "text": [
            "Using cache found in /root/.cache/torch/hub/chenyaofo_pytorch-cifar-models_master\n"
          ]
        },
        {
          "output_type": "stream",
          "name": "stdout",
          "text": [
            "  \n",
            "Miary dla Resnet56:\n",
            "  Dokładność: 0.9437\n",
            "  Precyzja: 0.9436\n",
            "  Czułość: 0.9437\n",
            "  F1: 0.9436\n",
            "\n",
            "\n",
            "Ilość zatrutych przykładów: 500\n",
            "Miary po zatruciu:\n",
            "  \n",
            "Miary dla Resnet56:\n",
            "  Dokładność: 0.8809\n",
            "  Precyzja: 0.8890\n",
            "  Czułość: 0.8809\n",
            "  F1: 0.8823\n",
            "\n",
            "\n",
            "Skuteczność ataku zatrucia:\n",
            "Ilość zatrutych przykładów: 1000\n",
            "  Dokładność : 0.9970\n",
            "\n",
            "Trenowanie modelu: VGG19\n"
          ]
        },
        {
          "output_type": "stream",
          "name": "stderr",
          "text": [
            "Using cache found in /root/.cache/torch/hub/chenyaofo_pytorch-cifar-models_master\n"
          ]
        },
        {
          "output_type": "stream",
          "name": "stdout",
          "text": [
            "Downloading: \"https://github.com/chenyaofo/pytorch-cifar-models/releases/download/vgg/cifar10_vgg19_bn-57191229.pt\" to /root/.cache/torch/hub/checkpoints/cifar10_vgg19_bn-57191229.pt\n"
          ]
        },
        {
          "output_type": "stream",
          "name": "stderr",
          "text": [
            "100%|██████████| 78.5M/78.5M [00:02<00:00, 30.0MB/s]\n"
          ]
        },
        {
          "output_type": "stream",
          "name": "stdout",
          "text": [
            "  \n",
            "Miary dla VGG19:\n",
            "  Dokładność: 0.9391\n",
            "  Precyzja: 0.9390\n",
            "  Czułość: 0.9391\n",
            "  F1: 0.9390\n",
            "\n",
            "\n",
            "Ilość zatrutych przykładów: 500\n",
            "Miary po zatruciu:\n",
            "  \n",
            "Miary dla VGG19:\n",
            "  Dokładność: 0.8329\n",
            "  Precyzja: 0.8540\n",
            "  Czułość: 0.8329\n",
            "  F1: 0.8328\n",
            "\n",
            "\n",
            "Skuteczność ataku zatrucia:\n",
            "Ilość zatrutych przykładów: 1000\n",
            "  Dokładność : 0.9140\n",
            "\n",
            "Trenowanie modelu: VGG19\n"
          ]
        },
        {
          "output_type": "stream",
          "name": "stderr",
          "text": [
            "Using cache found in /root/.cache/torch/hub/chenyaofo_pytorch-cifar-models_master\n"
          ]
        },
        {
          "output_type": "stream",
          "name": "stdout",
          "text": [
            "  \n",
            "Miary dla VGG19:\n",
            "  Dokładność: 0.9391\n",
            "  Precyzja: 0.9390\n",
            "  Czułość: 0.9391\n",
            "  F1: 0.9390\n",
            "\n",
            "\n",
            "Ilość zatrutych przykładów: 500\n",
            "Miary po zatruciu:\n",
            "  \n",
            "Miary dla VGG19:\n",
            "  Dokładność: 0.8209\n",
            "  Precyzja: 0.8577\n",
            "  Czułość: 0.8209\n",
            "  F1: 0.8290\n",
            "\n",
            "\n",
            "Skuteczność ataku zatrucia:\n",
            "Ilość zatrutych przykładów: 1000\n",
            "  Dokładność : 0.9250\n",
            "\n",
            "Trenowanie modelu: VGG19\n"
          ]
        },
        {
          "output_type": "stream",
          "name": "stderr",
          "text": [
            "Using cache found in /root/.cache/torch/hub/chenyaofo_pytorch-cifar-models_master\n"
          ]
        },
        {
          "output_type": "stream",
          "name": "stdout",
          "text": [
            "  \n",
            "Miary dla VGG19:\n",
            "  Dokładność: 0.9391\n",
            "  Precyzja: 0.9390\n",
            "  Czułość: 0.9391\n",
            "  F1: 0.9390\n",
            "\n",
            "\n",
            "Ilość zatrutych przykładów: 500\n",
            "Miary po zatruciu:\n",
            "  \n",
            "Miary dla VGG19:\n",
            "  Dokładność: 0.8317\n",
            "  Precyzja: 0.8431\n",
            "  Czułość: 0.8317\n",
            "  F1: 0.8282\n",
            "\n",
            "\n",
            "Skuteczność ataku zatrucia:\n",
            "Ilość zatrutych przykładów: 1000\n",
            "  Dokładność : 0.9900\n",
            "\n",
            "Trenowanie modelu: MobileNetV2\n"
          ]
        },
        {
          "output_type": "stream",
          "name": "stderr",
          "text": [
            "Using cache found in /root/.cache/torch/hub/chenyaofo_pytorch-cifar-models_master\n"
          ]
        },
        {
          "output_type": "stream",
          "name": "stdout",
          "text": [
            "Downloading: \"https://github.com/chenyaofo/pytorch-cifar-models/releases/download/mobilenetv2/cifar10_mobilenetv2_x1_4-3bbbd6e2.pt\" to /root/.cache/torch/hub/checkpoints/cifar10_mobilenetv2_x1_4-3bbbd6e2.pt\n"
          ]
        },
        {
          "output_type": "stream",
          "name": "stderr",
          "text": [
            "100%|██████████| 16.8M/16.8M [00:00<00:00, 40.2MB/s]\n"
          ]
        },
        {
          "output_type": "stream",
          "name": "stdout",
          "text": [
            "  \n",
            "Miary dla MobileNetV2:\n",
            "  Dokładność: 0.9421\n",
            "  Precyzja: 0.9421\n",
            "  Czułość: 0.9421\n",
            "  F1: 0.9420\n",
            "\n",
            "\n",
            "Ilość zatrutych przykładów: 500\n",
            "Miary po zatruciu:\n",
            "  \n",
            "Miary dla MobileNetV2:\n",
            "  Dokładność: 0.8893\n",
            "  Precyzja: 0.8905\n",
            "  Czułość: 0.8893\n",
            "  F1: 0.8890\n",
            "\n",
            "\n",
            "Skuteczność ataku zatrucia:\n",
            "Ilość zatrutych przykładów: 1000\n",
            "  Dokładność : 0.9730\n",
            "\n",
            "Trenowanie modelu: MobileNetV2\n"
          ]
        },
        {
          "output_type": "stream",
          "name": "stderr",
          "text": [
            "Using cache found in /root/.cache/torch/hub/chenyaofo_pytorch-cifar-models_master\n"
          ]
        },
        {
          "output_type": "stream",
          "name": "stdout",
          "text": [
            "  \n",
            "Miary dla MobileNetV2:\n",
            "  Dokładność: 0.9421\n",
            "  Precyzja: 0.9421\n",
            "  Czułość: 0.9421\n",
            "  F1: 0.9420\n",
            "\n",
            "\n",
            "Ilość zatrutych przykładów: 500\n",
            "Miary po zatruciu:\n",
            "  \n",
            "Miary dla MobileNetV2:\n",
            "  Dokładność: 0.8717\n",
            "  Precyzja: 0.8745\n",
            "  Czułość: 0.8717\n",
            "  F1: 0.8710\n",
            "\n",
            "\n",
            "Skuteczność ataku zatrucia:\n",
            "Ilość zatrutych przykładów: 1000\n",
            "  Dokładność : 0.9170\n",
            "\n",
            "Trenowanie modelu: MobileNetV2\n"
          ]
        },
        {
          "output_type": "stream",
          "name": "stderr",
          "text": [
            "Using cache found in /root/.cache/torch/hub/chenyaofo_pytorch-cifar-models_master\n"
          ]
        },
        {
          "output_type": "stream",
          "name": "stdout",
          "text": [
            "  \n",
            "Miary dla MobileNetV2:\n",
            "  Dokładność: 0.9421\n",
            "  Precyzja: 0.9421\n",
            "  Czułość: 0.9421\n",
            "  F1: 0.9420\n",
            "\n",
            "\n",
            "Ilość zatrutych przykładów: 500\n",
            "Miary po zatruciu:\n",
            "  \n",
            "Miary dla MobileNetV2:\n",
            "  Dokładność: 0.8818\n",
            "  Precyzja: 0.8844\n",
            "  Czułość: 0.8818\n",
            "  F1: 0.8824\n",
            "\n",
            "\n",
            "Skuteczność ataku zatrucia:\n",
            "Ilość zatrutych przykładów: 1000\n",
            "  Dokładność : 1.0000\n",
            "\n",
            "Trenowanie modelu: repvgg_a2\n"
          ]
        },
        {
          "output_type": "stream",
          "name": "stderr",
          "text": [
            "Using cache found in /root/.cache/torch/hub/chenyaofo_pytorch-cifar-models_master\n"
          ]
        },
        {
          "output_type": "stream",
          "name": "stdout",
          "text": [
            "Downloading: \"https://github.com/chenyaofo/pytorch-cifar-models/releases/download/repvgg/cifar10_repvgg_a2-09488915.pt\" to /root/.cache/torch/hub/checkpoints/cifar10_repvgg_a2-09488915.pt\n"
          ]
        },
        {
          "output_type": "stream",
          "name": "stderr",
          "text": [
            "100%|██████████| 103M/103M [00:04<00:00, 22.7MB/s]\n"
          ]
        },
        {
          "output_type": "stream",
          "name": "stdout",
          "text": [
            "  \n",
            "Miary dla repvgg_a2:\n",
            "  Dokładność: 0.9527\n",
            "  Precyzja: 0.9527\n",
            "  Czułość: 0.9527\n",
            "  F1: 0.9526\n",
            "\n",
            "\n",
            "Ilość zatrutych przykładów: 500\n",
            "Miary po zatruciu:\n",
            "  \n",
            "Miary dla repvgg_a2:\n",
            "  Dokładność: 0.8073\n",
            "  Precyzja: 0.8351\n",
            "  Czułość: 0.8073\n",
            "  F1: 0.8094\n",
            "\n",
            "\n",
            "Skuteczność ataku zatrucia:\n",
            "Ilość zatrutych przykładów: 1000\n",
            "  Dokładność : 0.9600\n",
            "\n",
            "Trenowanie modelu: repvgg_a2\n"
          ]
        },
        {
          "output_type": "stream",
          "name": "stderr",
          "text": [
            "Using cache found in /root/.cache/torch/hub/chenyaofo_pytorch-cifar-models_master\n"
          ]
        },
        {
          "output_type": "stream",
          "name": "stdout",
          "text": [
            "  \n",
            "Miary dla repvgg_a2:\n",
            "  Dokładność: 0.9527\n",
            "  Precyzja: 0.9527\n",
            "  Czułość: 0.9527\n",
            "  F1: 0.9526\n",
            "\n",
            "\n",
            "Ilość zatrutych przykładów: 500\n",
            "Miary po zatruciu:\n",
            "  \n",
            "Miary dla repvgg_a2:\n",
            "  Dokładność: 0.8165\n",
            "  Precyzja: 0.8370\n",
            "  Czułość: 0.8165\n",
            "  F1: 0.8153\n",
            "\n",
            "\n",
            "Skuteczność ataku zatrucia:\n",
            "Ilość zatrutych przykładów: 1000\n",
            "  Dokładność : 0.9560\n",
            "\n",
            "Trenowanie modelu: repvgg_a2\n"
          ]
        },
        {
          "output_type": "stream",
          "name": "stderr",
          "text": [
            "Using cache found in /root/.cache/torch/hub/chenyaofo_pytorch-cifar-models_master\n"
          ]
        },
        {
          "output_type": "stream",
          "name": "stdout",
          "text": [
            "  \n",
            "Miary dla repvgg_a2:\n",
            "  Dokładność: 0.9527\n",
            "  Precyzja: 0.9527\n",
            "  Czułość: 0.9527\n",
            "  F1: 0.9526\n",
            "\n",
            "\n",
            "Ilość zatrutych przykładów: 500\n",
            "Miary po zatruciu:\n",
            "  \n",
            "Miary dla repvgg_a2:\n",
            "  Dokładność: 0.8547\n",
            "  Precyzja: 0.8606\n",
            "  Czułość: 0.8547\n",
            "  F1: 0.8544\n",
            "\n",
            "\n",
            "Skuteczność ataku zatrucia:\n",
            "Ilość zatrutych przykładów: 1000\n",
            "  Dokładność : 1.0000\n"
          ]
        }
      ]
    }
  ]
}